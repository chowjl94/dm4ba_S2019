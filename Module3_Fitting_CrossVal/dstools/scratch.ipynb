{
 "cells": [
  {
   "cell_type": "code",
   "execution_count": 1,
   "metadata": {},
   "outputs": [],
   "source": [
    "import numpy as np\n",
    "from sklearn import datasets\n",
    "import pandas as pd\n",
    "import matplotlib.pylab as plt\n",
    "\n",
    "def Decision_Surface(data, target, model=None, surface=True, probabilities=True, cell_size=.01):\n",
    "    '''\n",
    "    This function creates the surface of a decision tree using the data created with this script. \n",
    "    You can change this function tu plot any column of any dataframe. \n",
    "    \n",
    "    INPUT: data (created with data_tools.X() ),\n",
    "            target (Y value creted with data_tools.create_data() ),\n",
    "            model (Model already fitted with X and Y , i.e. DecisionTreeClassifier or logistic regression )\n",
    "            surface (True if we want to display the tree surface),\n",
    "            probabilities (False by default, if True we can see the color-scale based on the likelihood of being closer to the separator),\n",
    "           cell_size (value for the step of the numpy arange that creates the mesh)\n",
    "    RETURNS: Scatterplot with/without the surface\n",
    "    '''\n",
    "    # Get bounds, we only have 2 columns in the dataframe: column 0 and column 1 \n",
    "    x_min, x_max = data[data.columns[0]].min(), data[data.columns[0]].max()\n",
    "    y_min, y_max = data[data.columns[1]].min(), data[data.columns[1]].max()\n",
    "    \n",
    "    # Create a mesh\n",
    "    xx, yy = np.meshgrid(np.arange(x_min, x_max, cell_size), np.arange(y_min, y_max, cell_size))\n",
    "    meshed_data = pd.DataFrame(np.c_[xx.ravel(), yy.ravel()])\n",
    "    \n",
    "    # Add interactions\n",
    "    for i in range(data.shape[1]):\n",
    "        if i <= 1:\n",
    "            continue\n",
    "\n",
    "        meshed_data = np.c_[meshed_data, np.power(xx.ravel(), i)]\n",
    "\n",
    "    if model != None:\n",
    "        # Predict on the mesh with labels or probability\n",
    "        if probabilities:\n",
    "            Z = model.predict_proba(meshed_data)[:, 1].reshape(xx.shape)\n",
    "        else:\n",
    "            Z = model.predict(meshed_data).reshape(xx.shape)\n",
    "    \n",
    "    # Plot mesh and data\n",
    "    if data.shape[1] > 2:\n",
    "        # Higher orders\n",
    "        plt.title(\"humor^(\" + str(range(1,data.shape[1])) + \") and number_pets\")\n",
    "    else:\n",
    "        plt.title(\"humor and number_pets\")\n",
    "    plt.xlabel(\"humor\")\n",
    "    plt.ylabel(\"number_pets\")\n",
    "    if surface and model != None:\n",
    "        if probabilities:\n",
    "            # Color-scale on the contour (surface = separator)\n",
    "            cs = plt.contourf(xx, yy, Z,cmap=plt.cm.coolwarm, alpha=0.4)\n",
    "        else:\n",
    "            # Only a curve/line on the contour (surface = separator)\n",
    "            cs = plt.contourf(xx, yy, Z, levels=[-1,0,1],cmap=plt.cm.coolwarm, alpha=0.4)\n",
    "    color = [\"blue\" if t == 0 else \"red\" for t in target]\n",
    "    plt.scatter(data[data.columns[0]], data[data.columns[1]], color=color)\n",
    "\n",
    "def create_data(n_users = 300,n_informative=2,seed = 456):\n",
    "    '''\n",
    "    This function creates a data set with 3 random normal distributions scaled. \n",
    "    There are two main variables in this dataset: humor and number_pets.\n",
    "    It also computes higher orders for the 'humor' variable (^2, ^3 and ^4).\n",
    "    You can change this function with new orders or column names.\n",
    "   \n",
    "    RETURNS: target_name (always \"success\"), \n",
    "             variable_names (always [\"humor\", \"number_pets\"] ), \n",
    "             data  (dataframe with the data WITHOUT higher orders), \n",
    "             Y (target variable with values 0 or 1)\n",
    "    '''\n",
    "    # Set the randomness\n",
    "    np.random.seed(seed)\n",
    "\n",
    "    # Number of users\n",
    "    #n_users = 200\n",
    "\n",
    "    # Relationships\n",
    "    variable_names = [\"humor\", \"number_pets\"]\n",
    "    target_name = \"success\"\n",
    "\n",
    "    # Generate data (3 random normal distributions!!!!)\n",
    "    #a = np.random.normal(5, 5, n_users )\n",
    "    #b = np.random.normal(10, 5, n_users )\n",
    "    #c = np.random.normal(20, 5, n_users )\n",
    "\n",
    "    # Change scales\n",
    "    #x1 = list(a+10) + list(c+10) + list(b+10)\n",
    "    #x2 = list((b+10)/10) + list((b+10)/10) + list((c+10)/10)\n",
    "    #target = list(np.ones(len(b))) + list(np.ones(len(b))) + list(np.zeros(len(b)))\n",
    "\n",
    "    predictors, target = datasets.make_classification(n_features=2, n_redundant=0, \n",
    "                                                  n_informative=n_informative, n_clusters_per_class=2,\n",
    "                                                  n_samples=n_users)\n",
    "    \n",
    "    #data = pd.DataFrame(np.c_[x1, x2], columns=variable_names)\n",
    "    data = pd.DataFrame(predictors, columns=variable_names)\n",
    "\n",
    "    # Add interactions\n",
    "    data['humor^2'] = np.power(data['humor'], 2)\n",
    "    data['humor^3'] = np.power(data['humor'], 3)\n",
    "    data['humor^4'] = np.power(data['humor'], 4)\n",
    "\n",
    "    data[target_name] = target\n",
    "    Y = data[target_name]\n",
    "    return target_name, variable_names, data, Y\n",
    "\n",
    "def X(seed,complexity=1, data = None):\n",
    "    '''\n",
    "    This function return the X-data from the 'create_data' function of this script.\n",
    "    You can change the complexity to receive the main 2 columns + complex orders.\n",
    "    \n",
    "    INPUT: complexity (higher complexity (1 to 4) for the 'humor' variable)\n",
    "    RETURNS: data  (dataframe with the data WITH higher orders IF required)\n",
    "    '''\n",
    "    if data is None:\n",
    "        target_name, variable_names, data, Y = create_data(seed=seed)\n",
    "    # remove the target variable\n",
    "    drops = [\"success\"]\n",
    "    \n",
    "    # if complexity = 1 then we just need to drop all the higher order from the dataframe\n",
    "    for i in [2, 3, 4]:\n",
    "        # based on the number of complexity required, we drop the rest of the higher orders\n",
    "        if i > complexity:\n",
    "            drops.append(\"humor^\" + str(i))\n",
    "    \n",
    "    return data.drop(drops, 1)\n",
    "\n",
    "#target_name, variable_names, data, Y = create_data()"
   ]
  },
  {
   "cell_type": "code",
   "execution_count": 2,
   "metadata": {},
   "outputs": [
    {
     "data": {
      "image/png": "[encoded data removed]",
      "text/plain": [
       "<Figure size 432x288 with 1 Axes>"
      ]
     },
     "metadata": {
      "needs_background": "light"
     },
     "output_type": "display_data"
    }
   ],
   "source": [
    "np.random.seed(3)\n",
    "predictors, target = datasets.make_classification(n_features=2, n_redundant=0, \n",
    "                                                  n_informative=2, n_clusters_per_class=2,\n",
    "                                                  n_samples=300)\n",
    "\n",
    "variable_names = [\"humor\", \"number_pets\"]\n",
    "target_name = \"success\"\n",
    "data = pd.DataFrame(predictors, columns=variable_names)\n",
    "Decision_Surface(data, target, model = None)"
   ]
  },
  {
   "cell_type": "code",
   "execution_count": 4,
   "metadata": {},
   "outputs": [
    {
     "ename": "AttributeError",
     "evalue": "'function' object has no attribute 'columns'",
     "output_type": "error",
     "traceback": [
      "\u001b[0;31m---------------------------------------------------------------------------\u001b[0m",
      "\u001b[0;31mAttributeError\u001b[0m                            Traceback (most recent call last)",
      "\u001b[0;32m<ipython-input-4-8e63ad7a3d62>\u001b[0m in \u001b[0;36m<module>\u001b[0;34m\u001b[0m\n\u001b[1;32m      5\u001b[0m \u001b[0mx\u001b[0m \u001b[0;34m=\u001b[0m \u001b[0mX\u001b[0m\u001b[0;34m\u001b[0m\u001b[0m\n\u001b[1;32m      6\u001b[0m \u001b[0mplt\u001b[0m\u001b[0;34m.\u001b[0m\u001b[0mfigure\u001b[0m\u001b[0;34m(\u001b[0m\u001b[0mfigsize\u001b[0m\u001b[0;34m=\u001b[0m\u001b[0;34m[\u001b[0m\u001b[0;36m10\u001b[0m\u001b[0;34m,\u001b[0m\u001b[0;36m7\u001b[0m\u001b[0;34m]\u001b[0m\u001b[0;34m)\u001b[0m\u001b[0;34m\u001b[0m\u001b[0m\n\u001b[0;32m----> 7\u001b[0;31m \u001b[0mDecision_Surface\u001b[0m\u001b[0;34m(\u001b[0m\u001b[0mx\u001b[0m\u001b[0;34m,\u001b[0m \u001b[0mY\u001b[0m\u001b[0;34m,\u001b[0m \u001b[0;32mNone\u001b[0m\u001b[0;34m,\u001b[0m \u001b[0msurface\u001b[0m\u001b[0;34m=\u001b[0m\u001b[0;32mFalse\u001b[0m\u001b[0;34m)\u001b[0m\u001b[0;34m\u001b[0m\u001b[0m\n\u001b[0m",
      "\u001b[0;32m<ipython-input-1-784390c5d294>\u001b[0m in \u001b[0;36mDecision_Surface\u001b[0;34m(data, target, model, surface, probabilities, cell_size)\u001b[0m\n\u001b[1;32m     18\u001b[0m     '''\n\u001b[1;32m     19\u001b[0m     \u001b[0;31m# Get bounds, we only have 2 columns in the dataframe: column 0 and column 1\u001b[0m\u001b[0;34m\u001b[0m\u001b[0;34m\u001b[0m\u001b[0m\n\u001b[0;32m---> 20\u001b[0;31m     \u001b[0mx_min\u001b[0m\u001b[0;34m,\u001b[0m \u001b[0mx_max\u001b[0m \u001b[0;34m=\u001b[0m \u001b[0mdata\u001b[0m\u001b[0;34m[\u001b[0m\u001b[0mdata\u001b[0m\u001b[0;34m.\u001b[0m\u001b[0mcolumns\u001b[0m\u001b[0;34m[\u001b[0m\u001b[0;36m0\u001b[0m\u001b[0;34m]\u001b[0m\u001b[0;34m]\u001b[0m\u001b[0;34m.\u001b[0m\u001b[0mmin\u001b[0m\u001b[0;34m(\u001b[0m\u001b[0;34m)\u001b[0m\u001b[0;34m,\u001b[0m \u001b[0mdata\u001b[0m\u001b[0;34m[\u001b[0m\u001b[0mdata\u001b[0m\u001b[0;34m.\u001b[0m\u001b[0mcolumns\u001b[0m\u001b[0;34m[\u001b[0m\u001b[0;36m0\u001b[0m\u001b[0;34m]\u001b[0m\u001b[0;34m]\u001b[0m\u001b[0;34m.\u001b[0m\u001b[0mmax\u001b[0m\u001b[0;34m(\u001b[0m\u001b[0;34m)\u001b[0m\u001b[0;34m\u001b[0m\u001b[0m\n\u001b[0m\u001b[1;32m     21\u001b[0m     \u001b[0my_min\u001b[0m\u001b[0;34m,\u001b[0m \u001b[0my_max\u001b[0m \u001b[0;34m=\u001b[0m \u001b[0mdata\u001b[0m\u001b[0;34m[\u001b[0m\u001b[0mdata\u001b[0m\u001b[0;34m.\u001b[0m\u001b[0mcolumns\u001b[0m\u001b[0;34m[\u001b[0m\u001b[0;36m1\u001b[0m\u001b[0;34m]\u001b[0m\u001b[0;34m]\u001b[0m\u001b[0;34m.\u001b[0m\u001b[0mmin\u001b[0m\u001b[0;34m(\u001b[0m\u001b[0;34m)\u001b[0m\u001b[0;34m,\u001b[0m \u001b[0mdata\u001b[0m\u001b[0;34m[\u001b[0m\u001b[0mdata\u001b[0m\u001b[0;34m.\u001b[0m\u001b[0mcolumns\u001b[0m\u001b[0;34m[\u001b[0m\u001b[0;36m1\u001b[0m\u001b[0;34m]\u001b[0m\u001b[0;34m]\u001b[0m\u001b[0;34m.\u001b[0m\u001b[0mmax\u001b[0m\u001b[0;34m(\u001b[0m\u001b[0;34m)\u001b[0m\u001b[0;34m\u001b[0m\u001b[0m\n\u001b[1;32m     22\u001b[0m \u001b[0;34m\u001b[0m\u001b[0m\n",
      "\u001b[0;31mAttributeError\u001b[0m: 'function' object has no attribute 'columns'"
     ]
    },
    {
     "data": {
      "text/plain": [
       "<Figure size 720x504 with 0 Axes>"
      ]
     },
     "metadata": {},
     "output_type": "display_data"
    }
   ],
   "source": [
    "# Get some data: The create_data() function returns 4 variables:\n",
    "target_name, variable_names, data, Y = create_data(seed=11)\n",
    "\n",
    "# Grab the predictors (rows and columns)\n",
    "x = X\n",
    "plt.figure(figsize=[10,7])\n",
    "Decision_Surface(x, Y, None, surface=False)"
   ]
  },
  {
   "cell_type": "code",
   "execution_count": null,
   "metadata": {},
   "outputs": [],
   "source": [
    "predictors, target = datasets.make_classification(n_features=2, n_redundant=0, \n",
    "                                                  n_informative=2, n_clusters_per_class=4,\n",
    "                                                  n_samples=450)"
   ]
  },
  {
   "cell_type": "code",
   "execution_count": null,
   "metadata": {},
   "outputs": [],
   "source": [
    "a = np.random.normal(5, 5, 10 )\n",
    "aa = a * a\n",
    "aa"
   ]
  },
  {
   "cell_type": "code",
   "execution_count": null,
   "metadata": {},
   "outputs": [],
   "source": [
    "np.linspace(1,5,5)"
   ]
  },
  {
   "cell_type": "code",
   "execution_count": null,
   "metadata": {},
   "outputs": [],
   "source": [
    "data['humor']*data['humor']\n",
    "\n"
   ]
  }
 ],
 "metadata": {
  "kernelspec": {
   "display_name": "Python 3",
   "language": "python",
   "name": "python3"
  },
  "language_info": {
   "codemirror_mode": {
    "name": "ipython",
    "version": 3
   },
   "file_extension": ".py",
   "mimetype": "text/x-python",
   "name": "python",
   "nbconvert_exporter": "python",
   "pygments_lexer": "ipython3",
   "version": "3.5.2"
  }
 },
 "nbformat": 4,
 "nbformat_minor": 2
}
